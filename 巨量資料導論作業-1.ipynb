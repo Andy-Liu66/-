{
 "cells": [
  {
   "cell_type": "markdown",
   "metadata": {},
   "source": [
    "## 此題目為去年修習政大磨課師課程-「成為Python數據分析達人的第一堂課(蔡炎龍老師開設)」，當中曾遇到的作業，題目如下："
   ]
  },
  {
   "cell_type": "markdown",
   "metadata": {},
   "source": [
    "##### 建立一個「美食沙漠的餐點推薦系統」\n",
    "##### 情境：Susan是個數學高手，每天專心研究高深數學理論，因此沒有時間想每一餐要吃什麽，請依照他的需求幫他做出各餐的推薦餐點。給定以下list:\n",
    "##### breakfast_list = ['古早味', '德合香', '布朗奇早餐', '星巴克', '小貓咪', '傳香飯糰', '米塔', '麥當勞', '摩斯', '7-11', '全家']\n",
    "##### lunch_and_dinner_list = ['小公寓', '波波恰恰', '湯饌', '享窩咖啡', '湯包', '殺人魔王', '呷麵騎士', '提洛斯', '蝴蝶漾', '東京小城', '金鰭', '樂山', 'My麵屋', '李氏餐酒館', '里克', '水煎包', '憩賢樓', '高句麗', '魯智深', '敏忠', '大正亭', '阿里郎', '鬼匠', 'Juicy Bun', '滇味廚房']\n",
    "##### high_price_list = ['星巴克', '摩斯', '小公寓', '享窩咖啡', '金鰭', '李氏餐酒館', '里克', 'Juicy Bun', '滇味廚房']\n",
    "##### snack_list = ['豆花', '政大烤場', '丐幫滷味', '鹹水雞']\n",
    "##### 請遵守以下規則：\n",
    "* 依照早餐-午餐-晚餐的順序決定\n",
    "* 餐點必須用亂數決定\n",
    "* 除了定義以上的list，不可以在其他地方出現字串(也就是說不可以決定午餐吃'小公寓'後，另外定義dinner = ['波波恰恰', '湯饌', '享窩咖啡',...]）\n",
    "* 一天裡面只可以有一餐是屬於high_price\n",
    "* 午餐跟晚餐我不想吃同一家\n",
    "* 如果當天三餐都沒有屬於high_price的話，就要吃宵夜"
   ]
  },
  {
   "cell_type": "code",
   "execution_count": 1,
   "metadata": {
    "collapsed": true
   },
   "outputs": [],
   "source": [
    "breakfast_list = ['古早味', '德合香', '布朗奇早餐', '星巴克', '小貓咪', '傳香飯糰', '米塔', '麥當勞', '摩斯', '7-11', '全家']\n",
    "lunch_and_dinner_list = ['小公寓', '波波恰恰', '湯饌', '享窩咖啡', '湯包', '殺人魔王', '呷麵騎士', '提洛斯', '蝴蝶漾', '東京小城', '金鰭', '樂山', 'My麵屋', '李氏餐酒館', '里克', '水煎包', '憩賢樓', '高句麗', '魯智深', '敏忠', '大正亭', '阿里郎', '鬼匠', 'Juicy Bun', '滇味廚房']\n",
    "high_price_list = ['星巴克', '摩斯', '小公寓', '享窩咖啡', '金鰭', '李氏餐酒館', '里克', 'Juicy Bun', '滇味廚房']\n",
    "snack_list = ['豆花', '政大烤場', '丐幫滷味', '鹹水雞']"
   ]
  },
  {
   "cell_type": "code",
   "execution_count": 2,
   "metadata": {
    "collapsed": true
   },
   "outputs": [],
   "source": [
    "import numpy as np\n",
    "import pandas as pd"
   ]
  },
  {
   "cell_type": "code",
   "execution_count": 3,
   "metadata": {},
   "outputs": [
    {
     "data": {
      "text/html": [
       "<div>\n",
       "<style>\n",
       "    .dataframe thead tr:only-child th {\n",
       "        text-align: right;\n",
       "    }\n",
       "\n",
       "    .dataframe thead th {\n",
       "        text-align: left;\n",
       "    }\n",
       "\n",
       "    .dataframe tbody tr th {\n",
       "        vertical-align: top;\n",
       "    }\n",
       "</style>\n",
       "<table border=\"1\" class=\"dataframe\">\n",
       "  <thead>\n",
       "    <tr style=\"text-align: right;\">\n",
       "      <th></th>\n",
       "      <th>早餐</th>\n",
       "      <th>午餐</th>\n",
       "      <th>晚餐</th>\n",
       "      <th>消夜</th>\n",
       "    </tr>\n",
       "  </thead>\n",
       "  <tbody>\n",
       "    <tr>\n",
       "      <th>0</th>\n",
       "      <td>摩斯</td>\n",
       "      <td>波波恰恰</td>\n",
       "      <td>波波恰恰</td>\n",
       "      <td>今天沒消夜喔!</td>\n",
       "    </tr>\n",
       "  </tbody>\n",
       "</table>\n",
       "</div>"
      ],
      "text/plain": [
       "   早餐    午餐    晚餐       消夜\n",
       "0  摩斯  波波恰恰  波波恰恰  今天沒消夜喔!"
      ]
     },
     "execution_count": 3,
     "metadata": {},
     "output_type": "execute_result"
    }
   ],
   "source": [
    "##處理早餐\n",
    "breakfast = np.random.choice(breakfast_list, 1)   #隨機抽\n",
    "\n",
    "##處理午餐\n",
    "index_for_highprice_in_lunchdinner_list = []      #為了要找出屬於高價者在午晚餐清單中的位置，因此先設一個空的等等要裝資料\n",
    "\n",
    "for i in range(len(high_price_list)):             #抓出位置放入剛剛設的空資料集裡\n",
    "    if (high_price_list[i] in lunch_and_dinner_list):\n",
    "        index_for_highprice_in_lunchdinner_list.append(lunch_and_dinner_list.index(high_price_list[i]))\n",
    "\n",
    "if (breakfast in high_price_list):                #判斷早餐是否已經選擇高價物，若有，則從去掉上述抓出屬於高價者在午晚餐清單中的位置之資料集，然後重新抽一次\n",
    "    lunch_temp = np.delete(lunch_and_dinner_list, index_for_highprice_in_lunchdinner_list)\n",
    "    lunch = np.random.choice(lunch_temp, 1)                                                \n",
    "else:\n",
    "    lunch = np.random.choice(lunch_and_dinner_list, 1)  #若無高價物則隨便抽\n",
    "\n",
    "##處理晚餐\n",
    "if ((breakfast in high_price_list) | (lunch in high_price_list)):    #若早、午餐任一有高價物，則從上述抓出屬於高價者在午晚餐清單中的位置之資料集，然後重新抽一次\n",
    "    dinner_temp = np.delete(lunch_and_dinner_list, index_for_highprice_in_lunchdinner_list) \n",
    "    dinner = np.random.choice(lunch_temp, 1)   #其實可以不用重新設一個dinner_temp，可以直接寫在同一行，但這樣做邏輯較清楚：去掉→重抽                                              \n",
    "else:                                                                                       \n",
    "    dinner_temp = np.delete(lunch_and_dinner_list, lunch_and_dinner_list.index(lunch[0]))   #若早午餐無高價物，則去掉已抽出之午餐在午晚餐清單中的位置，然後重抽\n",
    "    dinner = np.random.choice(dinner_temp, 1)  #同上，可以不用重設一個dinner_temp\n",
    "\n",
    "##處理消夜\n",
    "snack = []\n",
    "if ((breakfast in high_price_list) | (lunch in high_price_list) | (dinner in high_price_list)): #若早、午、晚餐其中任一有高價物，則今日無消夜\n",
    "    snack = [\"今天沒消夜喔!\"]\n",
    "else:\n",
    "    snack = np.random.choice(snack_list, 1)                #反之則隨機抽一個消夜\n",
    "\n",
    "result = pd.DataFrame([breakfast, lunch, dinner, snack]).T #整理成表格\n",
    "result.columns = (\"早餐\", \"午餐\", \"晚餐\", \"消夜\")\n",
    "result"
   ]
  },
  {
   "cell_type": "code",
   "execution_count": null,
   "metadata": {
    "collapsed": true
   },
   "outputs": [],
   "source": []
  }
 ],
 "metadata": {
  "kernelspec": {
   "display_name": "Python 3",
   "language": "python",
   "name": "python3"
  },
  "language_info": {
   "codemirror_mode": {
    "name": "ipython",
    "version": 3
   },
   "file_extension": ".py",
   "mimetype": "text/x-python",
   "name": "python",
   "nbconvert_exporter": "python",
   "pygments_lexer": "ipython3",
   "version": "3.6.3"
  }
 },
 "nbformat": 4,
 "nbformat_minor": 2
}
