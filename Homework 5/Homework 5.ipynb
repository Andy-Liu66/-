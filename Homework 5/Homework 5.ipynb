{
 "cells": [
  {
   "cell_type": "markdown",
   "metadata": {},
   "source": [
    "# 巨量資料分析導論 Homework 5\n",
    "\n",
    "# B036060012 政經大四 劉百耀"
   ]
  },
  {
   "cell_type": "code",
   "execution_count": 1,
   "metadata": {
    "collapsed": true
   },
   "outputs": [],
   "source": [
    "import pandas as pd\n",
    "import numpy as np\n",
    "from sklearn.model_selection import cross_val_score"
   ]
  },
  {
   "cell_type": "code",
   "execution_count": 2,
   "metadata": {
    "collapsed": true
   },
   "outputs": [],
   "source": [
    "train = pd.read_csv(\"train.csv\")\n",
    "test = pd.read_csv(\"test.csv\")\n",
    "submission = pd.read_csv(\"gender_submission.csv\")"
   ]
  },
  {
   "cell_type": "markdown",
   "metadata": {},
   "source": [
    "## 資料前處理"
   ]
  },
  {
   "cell_type": "code",
   "execution_count": 3,
   "metadata": {},
   "outputs": [
    {
     "data": {
      "text/html": [
       "<div>\n",
       "<style scoped>\n",
       "    .dataframe tbody tr th:only-of-type {\n",
       "        vertical-align: middle;\n",
       "    }\n",
       "\n",
       "    .dataframe tbody tr th {\n",
       "        vertical-align: top;\n",
       "    }\n",
       "\n",
       "    .dataframe thead th {\n",
       "        text-align: right;\n",
       "    }\n",
       "</style>\n",
       "<table border=\"1\" class=\"dataframe\">\n",
       "  <thead>\n",
       "    <tr style=\"text-align: right;\">\n",
       "      <th></th>\n",
       "      <th>PassengerId</th>\n",
       "      <th>Survived</th>\n",
       "      <th>Pclass</th>\n",
       "      <th>Name</th>\n",
       "      <th>Sex</th>\n",
       "      <th>Age</th>\n",
       "      <th>SibSp</th>\n",
       "      <th>Parch</th>\n",
       "      <th>Ticket</th>\n",
       "      <th>Fare</th>\n",
       "      <th>Cabin</th>\n",
       "      <th>Embarked</th>\n",
       "    </tr>\n",
       "  </thead>\n",
       "  <tbody>\n",
       "    <tr>\n",
       "      <th>0</th>\n",
       "      <td>1</td>\n",
       "      <td>0</td>\n",
       "      <td>3</td>\n",
       "      <td>Braund, Mr. Owen Harris</td>\n",
       "      <td>male</td>\n",
       "      <td>22.0</td>\n",
       "      <td>1</td>\n",
       "      <td>0</td>\n",
       "      <td>A/5 21171</td>\n",
       "      <td>7.2500</td>\n",
       "      <td>NaN</td>\n",
       "      <td>S</td>\n",
       "    </tr>\n",
       "    <tr>\n",
       "      <th>1</th>\n",
       "      <td>2</td>\n",
       "      <td>1</td>\n",
       "      <td>1</td>\n",
       "      <td>Cumings, Mrs. John Bradley (Florence Briggs Th...</td>\n",
       "      <td>female</td>\n",
       "      <td>38.0</td>\n",
       "      <td>1</td>\n",
       "      <td>0</td>\n",
       "      <td>PC 17599</td>\n",
       "      <td>71.2833</td>\n",
       "      <td>C85</td>\n",
       "      <td>C</td>\n",
       "    </tr>\n",
       "    <tr>\n",
       "      <th>2</th>\n",
       "      <td>3</td>\n",
       "      <td>1</td>\n",
       "      <td>3</td>\n",
       "      <td>Heikkinen, Miss. Laina</td>\n",
       "      <td>female</td>\n",
       "      <td>26.0</td>\n",
       "      <td>0</td>\n",
       "      <td>0</td>\n",
       "      <td>STON/O2. 3101282</td>\n",
       "      <td>7.9250</td>\n",
       "      <td>NaN</td>\n",
       "      <td>S</td>\n",
       "    </tr>\n",
       "    <tr>\n",
       "      <th>3</th>\n",
       "      <td>4</td>\n",
       "      <td>1</td>\n",
       "      <td>1</td>\n",
       "      <td>Futrelle, Mrs. Jacques Heath (Lily May Peel)</td>\n",
       "      <td>female</td>\n",
       "      <td>35.0</td>\n",
       "      <td>1</td>\n",
       "      <td>0</td>\n",
       "      <td>113803</td>\n",
       "      <td>53.1000</td>\n",
       "      <td>C123</td>\n",
       "      <td>S</td>\n",
       "    </tr>\n",
       "    <tr>\n",
       "      <th>4</th>\n",
       "      <td>5</td>\n",
       "      <td>0</td>\n",
       "      <td>3</td>\n",
       "      <td>Allen, Mr. William Henry</td>\n",
       "      <td>male</td>\n",
       "      <td>35.0</td>\n",
       "      <td>0</td>\n",
       "      <td>0</td>\n",
       "      <td>373450</td>\n",
       "      <td>8.0500</td>\n",
       "      <td>NaN</td>\n",
       "      <td>S</td>\n",
       "    </tr>\n",
       "  </tbody>\n",
       "</table>\n",
       "</div>"
      ],
      "text/plain": [
       "   PassengerId  Survived  Pclass  \\\n",
       "0            1         0       3   \n",
       "1            2         1       1   \n",
       "2            3         1       3   \n",
       "3            4         1       1   \n",
       "4            5         0       3   \n",
       "\n",
       "                                                Name     Sex   Age  SibSp  \\\n",
       "0                            Braund, Mr. Owen Harris    male  22.0      1   \n",
       "1  Cumings, Mrs. John Bradley (Florence Briggs Th...  female  38.0      1   \n",
       "2                             Heikkinen, Miss. Laina  female  26.0      0   \n",
       "3       Futrelle, Mrs. Jacques Heath (Lily May Peel)  female  35.0      1   \n",
       "4                           Allen, Mr. William Henry    male  35.0      0   \n",
       "\n",
       "   Parch            Ticket     Fare Cabin Embarked  \n",
       "0      0         A/5 21171   7.2500   NaN        S  \n",
       "1      0          PC 17599  71.2833   C85        C  \n",
       "2      0  STON/O2. 3101282   7.9250   NaN        S  \n",
       "3      0            113803  53.1000  C123        S  \n",
       "4      0            373450   8.0500   NaN        S  "
      ]
     },
     "execution_count": 3,
     "metadata": {},
     "output_type": "execute_result"
    }
   ],
   "source": [
    "#看一下資料樣貌\n",
    "train.head()"
   ]
  },
  {
   "cell_type": "code",
   "execution_count": 4,
   "metadata": {},
   "outputs": [
    {
     "data": {
      "text/plain": [
       "Index(['PassengerId', 'Survived', 'Pclass', 'Name', 'Sex', 'Age', 'SibSp',\n",
       "       'Parch', 'Ticket', 'Fare', 'Cabin', 'Embarked'],\n",
       "      dtype='object')"
      ]
     },
     "execution_count": 4,
     "metadata": {},
     "output_type": "execute_result"
    }
   ],
   "source": [
    "train.columns"
   ]
  },
  {
   "cell_type": "code",
   "execution_count": 5,
   "metadata": {
    "collapsed": true
   },
   "outputs": [],
   "source": [
    "#先將y label整理出來\n",
    "Y_train = train[\"Survived\"]"
   ]
  },
  {
   "cell_type": "markdown",
   "metadata": {},
   "source": [
    "**先整理訓練資料集**"
   ]
  },
  {
   "cell_type": "code",
   "execution_count": 6,
   "metadata": {},
   "outputs": [
    {
     "name": "stdout",
     "output_type": "stream",
     "text": [
      "<class 'pandas.core.frame.DataFrame'>\n",
      "RangeIndex: 891 entries, 0 to 890\n",
      "Data columns (total 12 columns):\n",
      "PassengerId    891 non-null int64\n",
      "Survived       891 non-null int64\n",
      "Pclass         891 non-null int64\n",
      "Name           891 non-null object\n",
      "Sex            891 non-null object\n",
      "Age            714 non-null float64\n",
      "SibSp          891 non-null int64\n",
      "Parch          891 non-null int64\n",
      "Ticket         891 non-null object\n",
      "Fare           891 non-null float64\n",
      "Cabin          204 non-null object\n",
      "Embarked       889 non-null object\n",
      "dtypes: float64(2), int64(5), object(5)\n",
      "memory usage: 83.6+ KB\n"
     ]
    }
   ],
   "source": [
    "#看一下缺值情況\n",
    "train.info()"
   ]
  },
  {
   "cell_type": "markdown",
   "metadata": {},
   "source": [
    "\"Age\"跟\"Cabin\"缺值較多，這裡不對此兩欄資料補值，因此不納入模型訓練;同時原資料的解答\"Survived\", 及\"PassengerId\", \"Name\", \"Ticket\"也將不納入訓練"
   ]
  },
  {
   "cell_type": "code",
   "execution_count": 7,
   "metadata": {},
   "outputs": [
    {
     "name": "stdout",
     "output_type": "stream",
     "text": [
      "<class 'pandas.core.frame.DataFrame'>\n",
      "RangeIndex: 891 entries, 0 to 890\n",
      "Data columns (total 6 columns):\n",
      "Pclass      891 non-null int64\n",
      "Sex         891 non-null object\n",
      "SibSp       891 non-null int64\n",
      "Parch       891 non-null int64\n",
      "Fare        891 non-null float64\n",
      "Embarked    889 non-null object\n",
      "dtypes: float64(1), int64(3), object(2)\n",
      "memory usage: 41.8+ KB\n"
     ]
    }
   ],
   "source": [
    "selected_features = ['Pclass', 'Sex', 'SibSp', 'Parch', 'Fare', 'Embarked']\n",
    "X_train = train[selected_features]\n",
    "X_train.info()"
   ]
  },
  {
   "cell_type": "markdown",
   "metadata": {},
   "source": [
    "可以發現\"Embarked\"還缺兩筆資料，因此以下需要對其補植，首先看一下\"Embarked\"內的資料分布"
   ]
  },
  {
   "cell_type": "code",
   "execution_count": 8,
   "metadata": {},
   "outputs": [
    {
     "data": {
      "text/plain": [
       "count     889\n",
       "unique      3\n",
       "top         S\n",
       "freq      644\n",
       "Name: Embarked, dtype: object"
      ]
     },
     "execution_count": 8,
     "metadata": {},
     "output_type": "execute_result"
    }
   ],
   "source": [
    "X_train.Embarked.describe()"
   ]
  },
  {
   "cell_type": "markdown",
   "metadata": {},
   "source": [
    "可以發現\"S\"出現頻率最高，因此以下直接將缺值處補上\"S\""
   ]
  },
  {
   "cell_type": "code",
   "execution_count": 9,
   "metadata": {
    "collapsed": true
   },
   "outputs": [],
   "source": [
    "X_train.copy().Embarked[X_train.Embarked.isnull()] = \"S\""
   ]
  },
  {
   "cell_type": "code",
   "execution_count": 10,
   "metadata": {},
   "outputs": [
    {
     "name": "stdout",
     "output_type": "stream",
     "text": [
      "<class 'pandas.core.frame.DataFrame'>\n",
      "RangeIndex: 891 entries, 0 to 890\n",
      "Data columns (total 6 columns):\n",
      "Pclass      891 non-null int64\n",
      "Sex         891 non-null object\n",
      "SibSp       891 non-null int64\n",
      "Parch       891 non-null int64\n",
      "Fare        891 non-null float64\n",
      "Embarked    889 non-null object\n",
      "dtypes: float64(1), int64(3), object(2)\n",
      "memory usage: 41.8+ KB\n"
     ]
    }
   ],
   "source": [
    "X_train.info()"
   ]
  },
  {
   "cell_type": "markdown",
   "metadata": {},
   "source": [
    "X_train部分資料已齊全，進行One-Hot Encoding"
   ]
  },
  {
   "cell_type": "code",
   "execution_count": 11,
   "metadata": {
    "collapsed": true
   },
   "outputs": [],
   "source": [
    "X_train = pd.get_dummies(X_train)"
   ]
  },
  {
   "cell_type": "code",
   "execution_count": 12,
   "metadata": {},
   "outputs": [
    {
     "name": "stdout",
     "output_type": "stream",
     "text": [
      "<class 'pandas.core.frame.DataFrame'>\n",
      "RangeIndex: 891 entries, 0 to 890\n",
      "Data columns (total 9 columns):\n",
      "Pclass        891 non-null int64\n",
      "SibSp         891 non-null int64\n",
      "Parch         891 non-null int64\n",
      "Fare          891 non-null float64\n",
      "Sex_female    891 non-null uint8\n",
      "Sex_male      891 non-null uint8\n",
      "Embarked_C    891 non-null uint8\n",
      "Embarked_Q    891 non-null uint8\n",
      "Embarked_S    891 non-null uint8\n",
      "dtypes: float64(1), int64(3), uint8(5)\n",
      "memory usage: 32.3 KB\n"
     ]
    }
   ],
   "source": [
    "X_train.info()"
   ]
  },
  {
   "cell_type": "markdown",
   "metadata": {},
   "source": [
    "**接著整理預測資料集**"
   ]
  },
  {
   "cell_type": "code",
   "execution_count": 13,
   "metadata": {
    "collapsed": true
   },
   "outputs": [],
   "source": [
    "#首先選擇與訓練資料集相同的特徵\n",
    "X_test = test[selected_features]"
   ]
  },
  {
   "cell_type": "code",
   "execution_count": 14,
   "metadata": {},
   "outputs": [
    {
     "name": "stdout",
     "output_type": "stream",
     "text": [
      "<class 'pandas.core.frame.DataFrame'>\n",
      "RangeIndex: 418 entries, 0 to 417\n",
      "Data columns (total 6 columns):\n",
      "Pclass      418 non-null int64\n",
      "Sex         418 non-null object\n",
      "SibSp       418 non-null int64\n",
      "Parch       418 non-null int64\n",
      "Fare        417 non-null float64\n",
      "Embarked    418 non-null object\n",
      "dtypes: float64(1), int64(3), object(2)\n",
      "memory usage: 19.7+ KB\n"
     ]
    }
   ],
   "source": [
    "X_test.info()"
   ]
  },
  {
   "cell_type": "markdown",
   "metadata": {},
   "source": [
    "可以發現\"Fare\"還缺一筆資料，以下需要對其補植，由於Fare為數值資料，因此以下直接給予平均值"
   ]
  },
  {
   "cell_type": "code",
   "execution_count": 15,
   "metadata": {},
   "outputs": [
    {
     "name": "stderr",
     "output_type": "stream",
     "text": [
      "C:\\Users\\andy5\\Anaconda3\\lib\\site-packages\\pandas\\core\\indexing.py:537: SettingWithCopyWarning: \n",
      "A value is trying to be set on a copy of a slice from a DataFrame.\n",
      "Try using .loc[row_indexer,col_indexer] = value instead\n",
      "\n",
      "See the caveats in the documentation: http://pandas.pydata.org/pandas-docs/stable/indexing.html#indexing-view-versus-copy\n",
      "  self.obj[item] = s\n"
     ]
    }
   ],
   "source": [
    "X_test.iloc[X_test[X_test.Fare.isnull()].index, 4] = X_test.Fare.mean()"
   ]
  },
  {
   "cell_type": "code",
   "execution_count": 16,
   "metadata": {},
   "outputs": [
    {
     "name": "stdout",
     "output_type": "stream",
     "text": [
      "<class 'pandas.core.frame.DataFrame'>\n",
      "RangeIndex: 418 entries, 0 to 417\n",
      "Data columns (total 6 columns):\n",
      "Pclass      418 non-null int64\n",
      "Sex         418 non-null object\n",
      "SibSp       418 non-null int64\n",
      "Parch       418 non-null int64\n",
      "Fare        418 non-null float64\n",
      "Embarked    418 non-null object\n",
      "dtypes: float64(1), int64(3), object(2)\n",
      "memory usage: 19.7+ KB\n"
     ]
    }
   ],
   "source": [
    "X_test.info()"
   ]
  },
  {
   "cell_type": "markdown",
   "metadata": {},
   "source": [
    "X_test資料已齊全，進行One-Hot Encoding"
   ]
  },
  {
   "cell_type": "code",
   "execution_count": 17,
   "metadata": {
    "collapsed": true
   },
   "outputs": [],
   "source": [
    "X_test = pd.get_dummies(X_test)"
   ]
  },
  {
   "cell_type": "code",
   "execution_count": 18,
   "metadata": {},
   "outputs": [
    {
     "name": "stdout",
     "output_type": "stream",
     "text": [
      "<class 'pandas.core.frame.DataFrame'>\n",
      "RangeIndex: 418 entries, 0 to 417\n",
      "Data columns (total 9 columns):\n",
      "Pclass        418 non-null int64\n",
      "SibSp         418 non-null int64\n",
      "Parch         418 non-null int64\n",
      "Fare          418 non-null float64\n",
      "Sex_female    418 non-null uint8\n",
      "Sex_male      418 non-null uint8\n",
      "Embarked_C    418 non-null uint8\n",
      "Embarked_Q    418 non-null uint8\n",
      "Embarked_S    418 non-null uint8\n",
      "dtypes: float64(1), int64(3), uint8(5)\n",
      "memory usage: 15.2 KB\n"
     ]
    }
   ],
   "source": [
    "X_test.info()"
   ]
  },
  {
   "cell_type": "markdown",
   "metadata": {},
   "source": [
    "## Neural Network模型訓練"
   ]
  },
  {
   "cell_type": "code",
   "execution_count": 19,
   "metadata": {},
   "outputs": [
    {
     "name": "stderr",
     "output_type": "stream",
     "text": [
      "Using TensorFlow backend.\n"
     ]
    }
   ],
   "source": [
    "from keras.models import Sequential\n",
    "from keras.layers import Dense, Dropout"
   ]
  },
  {
   "cell_type": "code",
   "execution_count": 20,
   "metadata": {
    "collapsed": true
   },
   "outputs": [],
   "source": [
    "model = Sequential()\n",
    "\n",
    "model.add(Dense(units=80, input_dim=9, kernel_initializer='uniform', activation='relu'))\n",
    "model.add(Dropout(0.3))\n",
    "\n",
    "model.add(Dense(units=40, kernel_initializer='normal', activation='relu'))\n",
    "model.add(Dropout(0.3))\n",
    "\n",
    "model.add(Dense(units=20, kernel_initializer='normal', activation='relu'))\n",
    "model.add(Dropout(0.3))\n",
    "\n",
    "model.add(Dense(units=10, kernel_initializer='normal', activation='relu'))\n",
    "model.add(Dropout(0.3))\n",
    "\n",
    "model.add(Dense(units=1, kernel_initializer='normal', activation='sigmoid'))\n",
    "\n",
    "model.compile(loss='binary_crossentropy',\n",
    "              optimizer='adam',\n",
    "              metrics=['accuracy'])"
   ]
  },
  {
   "cell_type": "code",
   "execution_count": 21,
   "metadata": {
    "scrolled": true
   },
   "outputs": [
    {
     "name": "stdout",
     "output_type": "stream",
     "text": [
      "Train on 801 samples, validate on 90 samples\n",
      "Epoch 1/70\n",
      "801/801 [==============================] - 1s 714us/step - loss: 0.6922 - acc: 0.6167 - val_loss: 0.6900 - val_acc: 0.6222\n",
      "Epoch 2/70\n",
      "801/801 [==============================] - 0s 94us/step - loss: 0.6886 - acc: 0.6155 - val_loss: 0.6855 - val_acc: 0.6222\n",
      "Epoch 3/70\n",
      "801/801 [==============================] - 0s 111us/step - loss: 0.6840 - acc: 0.6155 - val_loss: 0.6765 - val_acc: 0.6222\n",
      "Epoch 4/70\n",
      "801/801 [==============================] - 0s 111us/step - loss: 0.6702 - acc: 0.6167 - val_loss: 0.6369 - val_acc: 0.6222\n",
      "Epoch 5/70\n",
      "801/801 [==============================] - 0s 114us/step - loss: 0.6187 - acc: 0.6292 - val_loss: 0.5446 - val_acc: 0.6444\n",
      "Epoch 6/70\n",
      "801/801 [==============================] - 0s 114us/step - loss: 0.5884 - acc: 0.6504 - val_loss: 0.5387 - val_acc: 0.7111\n",
      "Epoch 7/70\n",
      "801/801 [==============================] - 0s 99us/step - loss: 0.5684 - acc: 0.6617 - val_loss: 0.5229 - val_acc: 0.7333\n",
      "Epoch 8/70\n",
      "801/801 [==============================] - 0s 115us/step - loss: 0.5576 - acc: 0.6916 - val_loss: 0.5184 - val_acc: 0.7333\n",
      "Epoch 9/70\n",
      "801/801 [==============================] - 0s 112us/step - loss: 0.5596 - acc: 0.6717 - val_loss: 0.5246 - val_acc: 0.7333\n",
      "Epoch 10/70\n",
      "801/801 [==============================] - 0s 96us/step - loss: 0.5606 - acc: 0.6841 - val_loss: 0.5106 - val_acc: 0.7556\n",
      "Epoch 11/70\n",
      "801/801 [==============================] - 0s 115us/step - loss: 0.5723 - acc: 0.6879 - val_loss: 0.5063 - val_acc: 0.8111\n",
      "Epoch 12/70\n",
      "801/801 [==============================] - 0s 99us/step - loss: 0.5545 - acc: 0.6954 - val_loss: 0.5181 - val_acc: 0.7556\n",
      "Epoch 13/70\n",
      "801/801 [==============================] - 0s 101us/step - loss: 0.5672 - acc: 0.7116 - val_loss: 0.5136 - val_acc: 0.7667\n",
      "Epoch 14/70\n",
      "801/801 [==============================] - 0s 104us/step - loss: 0.5484 - acc: 0.7241 - val_loss: 0.5036 - val_acc: 0.7889\n",
      "Epoch 15/70\n",
      "801/801 [==============================] - 0s 101us/step - loss: 0.5526 - acc: 0.7316 - val_loss: 0.4973 - val_acc: 0.7889\n",
      "Epoch 16/70\n",
      "801/801 [==============================] - 0s 106us/step - loss: 0.5349 - acc: 0.7466 - val_loss: 0.4892 - val_acc: 0.7889\n",
      "Epoch 17/70\n",
      "801/801 [==============================] - 0s 106us/step - loss: 0.5390 - acc: 0.7341 - val_loss: 0.4878 - val_acc: 0.7889\n",
      "Epoch 18/70\n",
      "801/801 [==============================] - 0s 109us/step - loss: 0.5390 - acc: 0.7391 - val_loss: 0.4846 - val_acc: 0.8000\n",
      "Epoch 19/70\n",
      "801/801 [==============================] - 0s 96us/step - loss: 0.5206 - acc: 0.7703 - val_loss: 0.4815 - val_acc: 0.8000\n",
      "Epoch 20/70\n",
      "801/801 [==============================] - 0s 106us/step - loss: 0.5310 - acc: 0.7478 - val_loss: 0.4819 - val_acc: 0.7778\n",
      "Epoch 21/70\n",
      "801/801 [==============================] - 0s 127us/step - loss: 0.5420 - acc: 0.7553 - val_loss: 0.4861 - val_acc: 0.8000\n",
      "Epoch 22/70\n",
      "801/801 [==============================] - 0s 109us/step - loss: 0.5313 - acc: 0.7665 - val_loss: 0.4759 - val_acc: 0.7889\n",
      "Epoch 23/70\n",
      "801/801 [==============================] - 0s 112us/step - loss: 0.5406 - acc: 0.7453 - val_loss: 0.4799 - val_acc: 0.8000\n",
      "Epoch 24/70\n",
      "801/801 [==============================] - 0s 106us/step - loss: 0.5221 - acc: 0.7790 - val_loss: 0.4755 - val_acc: 0.8000\n",
      "Epoch 25/70\n",
      "801/801 [==============================] - 0s 104us/step - loss: 0.5056 - acc: 0.7890 - val_loss: 0.4706 - val_acc: 0.8000\n",
      "Epoch 26/70\n",
      "801/801 [==============================] - 0s 92us/step - loss: 0.5283 - acc: 0.7640 - val_loss: 0.4646 - val_acc: 0.8000\n",
      "Epoch 27/70\n",
      "801/801 [==============================] - 0s 89us/step - loss: 0.5198 - acc: 0.7803 - val_loss: 0.4591 - val_acc: 0.8000\n",
      "Epoch 28/70\n",
      "801/801 [==============================] - 0s 95us/step - loss: 0.5143 - acc: 0.7915 - val_loss: 0.4567 - val_acc: 0.8000\n",
      "Epoch 29/70\n",
      "801/801 [==============================] - 0s 97us/step - loss: 0.5231 - acc: 0.7878 - val_loss: 0.4618 - val_acc: 0.8000\n",
      "Epoch 30/70\n",
      "801/801 [==============================] - 0s 90us/step - loss: 0.5100 - acc: 0.7903 - val_loss: 0.4571 - val_acc: 0.8000\n",
      "Epoch 31/70\n",
      "801/801 [==============================] - 0s 91us/step - loss: 0.5076 - acc: 0.7928 - val_loss: 0.4574 - val_acc: 0.7889\n",
      "Epoch 32/70\n",
      "801/801 [==============================] - 0s 90us/step - loss: 0.4917 - acc: 0.7890 - val_loss: 0.4448 - val_acc: 0.8000\n",
      "Epoch 33/70\n",
      "801/801 [==============================] - 0s 92us/step - loss: 0.4945 - acc: 0.7915 - val_loss: 0.4680 - val_acc: 0.7889\n",
      "Epoch 34/70\n",
      "801/801 [==============================] - 0s 100us/step - loss: 0.5072 - acc: 0.7978 - val_loss: 0.4733 - val_acc: 0.8000\n",
      "Epoch 35/70\n",
      "801/801 [==============================] - 0s 99us/step - loss: 0.4877 - acc: 0.8027 - val_loss: 0.4481 - val_acc: 0.7889\n",
      "Epoch 36/70\n",
      "801/801 [==============================] - 0s 100us/step - loss: 0.5040 - acc: 0.7965 - val_loss: 0.4517 - val_acc: 0.7889\n",
      "Epoch 37/70\n",
      "801/801 [==============================] - 0s 101us/step - loss: 0.4994 - acc: 0.7978 - val_loss: 0.4427 - val_acc: 0.7889\n",
      "Epoch 38/70\n",
      "801/801 [==============================] - 0s 95us/step - loss: 0.5052 - acc: 0.7953 - val_loss: 0.4405 - val_acc: 0.7889\n",
      "Epoch 39/70\n",
      "801/801 [==============================] - 0s 90us/step - loss: 0.4794 - acc: 0.8065 - val_loss: 0.4329 - val_acc: 0.8111\n",
      "Epoch 40/70\n",
      "801/801 [==============================] - 0s 92us/step - loss: 0.4918 - acc: 0.8015 - val_loss: 0.4348 - val_acc: 0.7889\n",
      "Epoch 41/70\n",
      "801/801 [==============================] - 0s 100us/step - loss: 0.4882 - acc: 0.7928 - val_loss: 0.4389 - val_acc: 0.8111\n",
      "Epoch 42/70\n",
      "801/801 [==============================] - 0s 101us/step - loss: 0.4893 - acc: 0.8015 - val_loss: 0.4327 - val_acc: 0.7889\n",
      "Epoch 43/70\n",
      "801/801 [==============================] - 0s 94us/step - loss: 0.4781 - acc: 0.8040 - val_loss: 0.4262 - val_acc: 0.8000\n",
      "Epoch 44/70\n",
      "801/801 [==============================] - 0s 90us/step - loss: 0.4937 - acc: 0.7953 - val_loss: 0.4396 - val_acc: 0.7889\n",
      "Epoch 45/70\n",
      "801/801 [==============================] - 0s 97us/step - loss: 0.4892 - acc: 0.7965 - val_loss: 0.4466 - val_acc: 0.8222\n",
      "Epoch 46/70\n",
      "801/801 [==============================] - 0s 97us/step - loss: 0.4978 - acc: 0.7815 - val_loss: 0.4413 - val_acc: 0.7889\n",
      "Epoch 47/70\n",
      "801/801 [==============================] - 0s 105us/step - loss: 0.4778 - acc: 0.8027 - val_loss: 0.4318 - val_acc: 0.7889\n",
      "Epoch 48/70\n",
      "801/801 [==============================] - 0s 97us/step - loss: 0.4793 - acc: 0.8140 - val_loss: 0.4277 - val_acc: 0.7889\n",
      "Epoch 49/70\n",
      "801/801 [==============================] - 0s 97us/step - loss: 0.4753 - acc: 0.8015 - val_loss: 0.4190 - val_acc: 0.8111\n",
      "Epoch 50/70\n",
      "801/801 [==============================] - 0s 99us/step - loss: 0.4785 - acc: 0.8065 - val_loss: 0.4216 - val_acc: 0.7889\n",
      "Epoch 51/70\n",
      "801/801 [==============================] - 0s 95us/step - loss: 0.4803 - acc: 0.8065 - val_loss: 0.4224 - val_acc: 0.7889\n",
      "Epoch 52/70\n",
      "801/801 [==============================] - 0s 85us/step - loss: 0.4764 - acc: 0.8102 - val_loss: 0.4338 - val_acc: 0.7889\n",
      "Epoch 53/70\n",
      "801/801 [==============================] - 0s 96us/step - loss: 0.4823 - acc: 0.8002 - val_loss: 0.4076 - val_acc: 0.7889\n",
      "Epoch 54/70\n",
      "801/801 [==============================] - 0s 100us/step - loss: 0.4857 - acc: 0.7903 - val_loss: 0.4067 - val_acc: 0.8333\n",
      "Epoch 55/70\n",
      "801/801 [==============================] - 0s 91us/step - loss: 0.4796 - acc: 0.8015 - val_loss: 0.4102 - val_acc: 0.8333\n",
      "Epoch 56/70\n",
      "801/801 [==============================] - 0s 87us/step - loss: 0.4832 - acc: 0.7878 - val_loss: 0.4039 - val_acc: 0.8000\n",
      "Epoch 57/70\n",
      "801/801 [==============================] - 0s 100us/step - loss: 0.4869 - acc: 0.8002 - val_loss: 0.4201 - val_acc: 0.8000\n",
      "Epoch 58/70\n",
      "801/801 [==============================] - 0s 99us/step - loss: 0.4804 - acc: 0.8090 - val_loss: 0.4059 - val_acc: 0.8111\n",
      "Epoch 59/70\n",
      "801/801 [==============================] - 0s 92us/step - loss: 0.4955 - acc: 0.8027 - val_loss: 0.4095 - val_acc: 0.8222\n",
      "Epoch 60/70\n",
      "801/801 [==============================] - 0s 87us/step - loss: 0.4940 - acc: 0.8065 - val_loss: 0.4009 - val_acc: 0.8333\n",
      "Epoch 61/70\n"
     ]
    },
    {
     "name": "stdout",
     "output_type": "stream",
     "text": [
      "801/801 [==============================] - 0s 95us/step - loss: 0.4793 - acc: 0.8002 - val_loss: 0.4049 - val_acc: 0.8111\n",
      "Epoch 62/70\n",
      "801/801 [==============================] - 0s 101us/step - loss: 0.4671 - acc: 0.8052 - val_loss: 0.4183 - val_acc: 0.8000\n",
      "Epoch 63/70\n",
      "801/801 [==============================] - 0s 116us/step - loss: 0.4703 - acc: 0.8040 - val_loss: 0.4024 - val_acc: 0.8333\n",
      "Epoch 64/70\n",
      "801/801 [==============================] - 0s 94us/step - loss: 0.4797 - acc: 0.8040 - val_loss: 0.3971 - val_acc: 0.8333\n",
      "Epoch 65/70\n",
      "801/801 [==============================] - 0s 116us/step - loss: 0.4925 - acc: 0.7953 - val_loss: 0.4115 - val_acc: 0.8000\n",
      "Epoch 66/70\n",
      "801/801 [==============================] - 0s 117us/step - loss: 0.4873 - acc: 0.8027 - val_loss: 0.4175 - val_acc: 0.8111\n",
      "Epoch 67/70\n",
      "801/801 [==============================] - 0s 94us/step - loss: 0.4761 - acc: 0.7978 - val_loss: 0.4068 - val_acc: 0.8222\n",
      "Epoch 68/70\n",
      "801/801 [==============================] - 0s 96us/step - loss: 0.4904 - acc: 0.7765 - val_loss: 0.4066 - val_acc: 0.8111\n",
      "Epoch 69/70\n",
      "801/801 [==============================] - 0s 94us/step - loss: 0.5000 - acc: 0.7815 - val_loss: 0.4089 - val_acc: 0.8333\n",
      "Epoch 70/70\n",
      "801/801 [==============================] - 0s 99us/step - loss: 0.4756 - acc: 0.8015 - val_loss: 0.3971 - val_acc: 0.8333\n"
     ]
    }
   ],
   "source": [
    "train_history = model.fit(X_train,\n",
    "                          Y_train,\n",
    "                          validation_split=0.1,\n",
    "                          epochs=70,\n",
    "                          batch_size=32,\n",
    "                          verbose=1)"
   ]
  },
  {
   "cell_type": "markdown",
   "metadata": {},
   "source": [
    "## 預測"
   ]
  },
  {
   "cell_type": "code",
   "execution_count": 22,
   "metadata": {},
   "outputs": [],
   "source": [
    "submission = pd.DataFrame({\"PassengerId\" : test.PassengerId.values, \n",
    "                           \"Survived\" : list(map(lambda x : 0 if x < 0.5 else 1, model.predict(X_test)))})\n",
    "\n",
    "\n",
    "submission.to_csv(\"submission.csv\", index = False)"
   ]
  },
  {
   "cell_type": "markdown",
   "metadata": {},
   "source": [
    "## 預測結果"
   ]
  },
  {
   "cell_type": "markdown",
   "metadata": {},
   "source": [
    "![img](capture.png)\n",
    "上傳後準確率為76%，比原先退步。"
   ]
  }
 ],
 "metadata": {
  "kernelspec": {
   "display_name": "Python 3",
   "language": "python",
   "name": "python3"
  },
  "language_info": {
   "codemirror_mode": {
    "name": "ipython",
    "version": 3
   },
   "file_extension": ".py",
   "mimetype": "text/x-python",
   "name": "python",
   "nbconvert_exporter": "python",
   "pygments_lexer": "ipython3",
   "version": "3.6.3"
  }
 },
 "nbformat": 4,
 "nbformat_minor": 2
}
